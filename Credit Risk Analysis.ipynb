{
 "cells": [
  {
   "cell_type": "markdown",
   "metadata": {},
   "source": [
    "## Abstraction\n",
    "\n",
    "It's important for finance companies to know risk of giving credit to their clients. Credit scores are essential for companies to decide on whether giving credit to someone or not. In this project, we experiment on features of clients to decide on which ones are more important. SVM, logistic regression and desicion trees are utilized and compared. An interface that calculates credit score for given features is provided."
   ]
  },
  {
   "cell_type": "markdown",
   "metadata": {},
   "source": [
    "# Intoduction\n",
    "&nbsp;&nbsp; Banks play a crucial role in market economies. They decide who can get finance and on what terms and can make or break investment decisions. For markets and society to function, individuals and companies need access to credit. \n",
    "\n",
    "&nbsp;&nbsp; Credit scoring algorithms, which make a guess at the probability of default, are the method banks use to determine whether or not a loan should be granted. This competition requires participants to improve on the state of the art in credit scoring, by predicting the probability that somebody will experience financial distress in the next two years.\n",
    "\n",
    "# Data Dictionary\n",
    "| Variable Name                        | Description                                                                                                                                              | Type       |\n",
    "|--------------------------------------|----------------------------------------------------------------------------------------------------------------------------------------------------------|------------|\n",
    "| SeriousDlqin2yrs                     | Person experienced 90 days past due delinquency or worse                                                                                                 | Y/N        |\n",
    "| RevolvingUtilizationOfUnsecuredLines | Total balance on credit cards and personal lines of credit except real estate and no installment debt like car loans divided by the sum of credit limits | percentage |\n",
    "| age                                  | Age of borrower in years                                                                                                                                 | integer    |\n",
    "| NumberOfTime30-59DaysPastDueNotWorse | Number of times borrower has been 30-59 days past due but no worse in the last 2 years.                                                                  | integer    |\n",
    "| DebtRatio                            | Monthly debt payments, alimony,living costs divided by monthy gross income                                                                               | percentage |\n",
    "| MonthlyIncome                        | Monthly income                                                                                                                                           | real       |\n",
    "| NumberOfOpenCreditLinesAndLoans      | Number of Open loans (installment like car loan or mortgage) and Lines of credit (e.g. credit cards)                                                     | integer    |\n",
    "| NumberOfTimes90DaysLate              | Number of times borrower has been 90 days or more past due.                                                                                              | integer    |\n",
    "| NumberRealEstateLoansOrLines         | Number of mortgage and real estate loans including home equity lines of credit                                                                           | integer    |\n",
    "| NumberOfTime60-89DaysPastDueNotWorse | Number of times borrower has been 60-89 days past due but no worse in the last 2 years.                                                                  | integer    |\n",
    "| NumberOfDependents                   | Number of dependents in family excluding themselves (spouse, children etc.)                                                                              | integer    |\n"
   ]
  },
  {
   "cell_type": "markdown",
   "metadata": {},
   "source": [
    "## Related Work \n",
    "\n",
    "A two-stage hybrid credit scoring model using artificial neural networks and multivariate adaptive regression splines\n",
    "http://www.sciencedirect.com/science/article/pii/S0957417404001782\n",
    "\n",
    "Benchmarking state-of-the-art classification algorithms for credit scoring\n",
    "https://link.springer.com/article/10.1057/palgrave.jors.2601545\n",
    "\n",
    "Using neural network ensembles for bankruptcy prediction and credit scoring\n",
    "http://www.sciencedirect.com/science/article/pii/S0957417407001558\n",
    "\n",
    "A comparative assessment of ensemble learning for credit scoring\n",
    "http://www.sciencedirect.com/science/article/pii/S095741741000552X\n",
    "\n",
    "Comprehensible credit scoring models using rule extraction from support vector machines\n",
    "http://www.sciencedirect.com/science/article/pii/S0377221706011878\n",
    "\n",
    "Neural network credit scoring models\n",
    "http://www.sciencedirect.com/science/article/pii/S0305054899001495\n",
    "\n",
    "Statistical Classification Methods in Consumer Credit Scoring: a Review\n",
    "http://onlinelibrary.wiley.com/doi/10.1111/j.1467-985X.1997.00078.x/full"
   ]
  },
  {
   "cell_type": "code",
   "execution_count": null,
   "metadata": {
    "collapsed": false
   },
   "outputs": [],
   "source": [
    "import pandas as pd\n",
    "import numpy as np\n",
    "import seaborn as sns\n",
    "import matplotlib.pyplot as plt\n",
    "from sklearn.feature_extraction import DictVectorizer\n",
    "from pandas import DataFrame\n",
    "%matplotlib inline"
   ]
  },
  {
   "cell_type": "markdown",
   "metadata": {},
   "source": [
    "### Train Data Loaded"
   ]
  },
  {
   "cell_type": "code",
   "execution_count": null,
   "metadata": {
    "collapsed": false,
    "scrolled": true
   },
   "outputs": [],
   "source": [
    "###\n",
    "### Load Data Set\n",
    "###\n",
    "data = pd.read_csv('cs-training.csv',sep=';').drop('Unnamed: 0', axis = 1)"
   ]
  },
  {
   "cell_type": "code",
   "execution_count": null,
   "metadata": {
    "collapsed": false
   },
   "outputs": [],
   "source": [
    "# '-' in column name creates a problem when accessing\n",
    "Cols = []\n",
    "for i in range(len(data.columns)):\n",
    "    Cols.append(data.columns[i].replace('-', ''))\n",
    "data.columns = Cols"
   ]
  },
  {
   "cell_type": "code",
   "execution_count": null,
   "metadata": {
    "collapsed": false
   },
   "outputs": [],
   "source": [
    "#\n",
    "data = data.apply(lambda x: x.fillna(np.nanmedian(x),axis=0))\n",
    "# Drop rows with missing column data\n",
    "#data = data.dropna()\n",
    "\n",
    "###\n",
    "### Convert Data Into List Of Dict Records\n",
    "###\n",
    "data = data.to_dict(orient='records')\n",
    "\n",
    "###\n",
    "### Seperate Target and Outcome Features\n",
    "###\n",
    "\n",
    "vec = DictVectorizer()\n",
    "\n",
    "df_data = vec.fit_transform(data).toarray()\n",
    "feature_names = vec.get_feature_names()\n",
    "df_data = DataFrame(\n",
    "    df_data,\n",
    "    columns=feature_names)\n"
   ]
  },
  {
   "cell_type": "markdown",
   "metadata": {},
   "source": [
    "## Missing Values\n",
    " There are some values in the dataset that are missing or having really awkward magnitudes. Therefore, firstly, we should take care of them."
   ]
  },
  {
   "cell_type": "code",
   "execution_count": null,
   "metadata": {
    "collapsed": false
   },
   "outputs": [],
   "source": [
    "\n",
    "#col_mean = np.nanmean(X,axis=0)\n",
    "\n",
    "#Find indicies that you need to replace\n",
    "#inds = np.where(np.isnan(X))\n",
    "\n",
    "#Place column means in the indices. Align the arrays using take\n",
    "#X[inds]=np.take(col_mean,inds[1])\n"
   ]
  },
  {
   "cell_type": "markdown",
   "metadata": {},
   "source": [
    "## Visualization\n",
    "\n",
    "In this part we will show you the visualization of the data with respect to some aspects of them.\n"
   ]
  },
  {
   "cell_type": "code",
   "execution_count": null,
   "metadata": {
    "collapsed": false
   },
   "outputs": [],
   "source": [
    "def plot_freq(l):\n",
    "    ncount = l\n",
    "\n",
    "    ax2=ax.twinx()\n",
    "\n",
    "    ax2.yaxis.tick_left()\n",
    "    ax.yaxis.tick_right()\n",
    "\n",
    "    ax.yaxis.set_label_position('right')\n",
    "    ax2.yaxis.set_label_position('left')\n",
    "\n",
    "    ax2.set_ylabel('Frequency [%]')\n",
    "\n",
    "    for p in ax.patches:\n",
    "        x=p.get_bbox().get_points()[:,0]\n",
    "        y=p.get_bbox().get_points()[1,1]\n",
    "        ax.annotate('{:.1f}%'.format(100.*y/ncount), (x.mean(), y), \n",
    "                ha='center', va='bottom')\n",
    "\n",
    "    ax2.set_ylim(0,100)\n",
    "    ax2.grid(None)    "
   ]
  },
  {
   "cell_type": "code",
   "execution_count": null,
   "metadata": {
    "collapsed": false
   },
   "outputs": [],
   "source": [
    "ax = sns.countplot(x = df_data.SeriousDlqin2yrs , palette=\"Set2\")\n",
    "sns.set(font_scale=1.5)\n",
    "ax.set_ylim(top = len(data))\n",
    "ax.set_xlabel('Class')\n",
    "ax.set_ylabel('Sample Size')\n",
    "plt.title('Class Frequencies')\n",
    "\n",
    "plot_freq(l = len(df_data.SeriousDlqin2yrs))\n",
    "\n",
    "plt.show()"
   ]
  },
  {
   "cell_type": "markdown",
   "metadata": {},
   "source": [
    "## Linear Discriminant Analysis"
   ]
  },
  {
   "cell_type": "code",
   "execution_count": null,
   "metadata": {
    "collapsed": false
   },
   "outputs": [],
   "source": []
  },
  {
   "cell_type": "code",
   "execution_count": null,
   "metadata": {
    "collapsed": false
   },
   "outputs": [],
   "source": [
    "from sklearn import  linear_model\n",
    "#clf = linear_model.LogisticRegression(C=1e5)\n",
    "#clf.fit(X_Train,Y_Train)\n",
    "#clf.predict_proba(X[0])\n"
   ]
  },
  {
   "cell_type": "code",
   "execution_count": null,
   "metadata": {
    "collapsed": false
   },
   "outputs": [],
   "source": [
    "#clf.coef_\n",
    "#ind = np.where(Y_test == 1)\n",
    "#ss = clf.predict_log_proba(X_test[ind]) \n",
    "#t = ss.argmax(axis = 1)\n",
    "#a = np.intersect1d(ind,np.where(t == 1))\n",
    "#100*len(a)/len(t)\n",
    "#print(clf.predict_proba(X_test[37441].reshape(1,-1)))\n",
    "#y_test[37441]"
   ]
  },
  {
   "cell_type": "markdown",
   "metadata": {},
   "source": [
    "# Outlier detection"
   ]
  },
  {
   "cell_type": "markdown",
   "metadata": {
    "collapsed": false
   },
   "source": [
    "We are going to examine some features to eliminate outliers. For instance, in *RevolvingUtilizationOfUnsecuredLines*, there are some values that are close to 50000. We should eliminate such values to prevent our error rate being very high. \n",
    "\n",
    "### RevolvingUtilizationOfUnsecuredLines Variance"
   ]
  },
  {
   "cell_type": "code",
   "execution_count": null,
   "metadata": {
    "collapsed": false
   },
   "outputs": [],
   "source": [
    "#plt.plot(data2.RevolvingUtilizationOfUnsecuredLines)\n",
    "plt.figure(figsize=(20,15))\n",
    "ax = plt.subplot(211)\n",
    "#ax.set_ylim(0,20)\n",
    "plt.plot(df_data.RevolvingUtilizationOfUnsecuredLines, 'bo',df_data.RevolvingUtilizationOfUnsecuredLines, 'k')\n",
    "print('Median: %.7f \\nMean: %.7f' %(np.median(df_data.RevolvingUtilizationOfUnsecuredLines),np.mean(df_data.RevolvingUtilizationOfUnsecuredLines)))\n",
    "ruoelLt2=len(df_data[df_data.RevolvingUtilizationOfUnsecuredLines < 2])\n",
    "ruoelACt=len(df_data.RevolvingUtilizationOfUnsecuredLines)\n",
    "print('Values less than 2 : %d in %d. Ratio: %.5f%%' %(ruoelLt2,ruoelACt,100*ruoelLt2/ruoelACt))\n",
    "#sns.kdeplot(data2.RevolvingUtilizationOfUnsecuredLines, shade=True, color=\"r\")\n",
    "#data2.age.plot.box()\n",
    "#data2.RevolvingUtilizationOfUnsecuredLines.plot.box()\n"
   ]
  },
  {
   "cell_type": "markdown",
   "metadata": {},
   "source": [
    "Therefore we need to clean outliers by considering the ratio we obtained above."
   ]
  },
  {
   "cell_type": "code",
   "execution_count": null,
   "metadata": {
    "collapsed": false
   },
   "outputs": [],
   "source": [
    "ind = np.where(df_data.RevolvingUtilizationOfUnsecuredLines>2)\n",
    "df_data.RevolvingUtilizationOfUnsecuredLines[ind[0]] = 2."
   ]
  },
  {
   "cell_type": "markdown",
   "metadata": {},
   "source": [
    "### Age Variance"
   ]
  },
  {
   "cell_type": "code",
   "execution_count": null,
   "metadata": {
    "collapsed": false
   },
   "outputs": [],
   "source": [
    "from collections import Counter\n",
    "plt.figure(1)\n",
    "df_data.age.plot.box()\n",
    "Counter(df_data.age)\n",
    "\n"
   ]
  },
  {
   "cell_type": "code",
   "execution_count": null,
   "metadata": {
    "collapsed": false
   },
   "outputs": [],
   "source": [
    "plt.figure(2)\n",
    "sns.set_color_codes()\n",
    "sns.distplot(df_data.age, color=\"y\")\n",
    "plt.show()"
   ]
  },
  {
   "cell_type": "code",
   "execution_count": null,
   "metadata": {
    "collapsed": false
   },
   "outputs": [],
   "source": [
    "ind = np.where(df_data.age<21)\n",
    "df_data.age[ind[0]] = 21.\n",
    "ind = np.where(df_data.age>94)\n",
    "df_data.age[ind[0]] = 94.\n"
   ]
  },
  {
   "cell_type": "markdown",
   "metadata": {},
   "source": [
    "### NumberOfTime30-59DaysPastDueNotWorse Varience\n"
   ]
  },
  {
   "cell_type": "code",
   "execution_count": null,
   "metadata": {
    "collapsed": false
   },
   "outputs": [],
   "source": [
    "Counter(df_data.NumberOfTime3059DaysPastDueNotWorse)"
   ]
  },
  {
   "cell_type": "code",
   "execution_count": null,
   "metadata": {
    "collapsed": true
   },
   "outputs": [],
   "source": [
    "### Set outlier values to median , that is 0.\n",
    "ind = np.where(df_data.NumberOfTime3059DaysPastDueNotWorse>95)\n",
    "df_data.NumberOfTime3059DaysPastDueNotWorse[ind[0]] = 0."
   ]
  },
  {
   "cell_type": "code",
   "execution_count": null,
   "metadata": {
    "collapsed": true
   },
   "outputs": [],
   "source": [
    "def mad_based_outlier(points, thresh=3.5):\n",
    "    if len(points.shape) == 1:\n",
    "        points = points[:,None]\n",
    "    median = np.median(points, axis=0)\n",
    "    diff = np.sum((points - median)**2, axis=-1)\n",
    "    diff = np.sqrt(diff)\n",
    "    med_abs_deviation = np.median(diff)\n",
    "\n",
    "    modified_z_score = 0.6745 * diff / med_abs_deviation\n",
    "\n",
    "    return modified_z_score > thresh"
   ]
  },
  {
   "cell_type": "markdown",
   "metadata": {},
   "source": [
    "### DebtRatio Variance"
   ]
  },
  {
   "cell_type": "code",
   "execution_count": null,
   "metadata": {
    "collapsed": false
   },
   "outputs": [],
   "source": [
    "plt.figure(figsize=(20,15))\n",
    "ax = plt.subplot(211)\n",
    "#ax.set_ylim(0,20)\n",
    "plt.plot(df_data.DebtRatio, 'bo',df_data.DebtRatio, 'k')\n",
    "print('Median: %.7f \\nMean: %.7f' %(np.median(df_data.DebtRatio),np.mean(df_data.DebtRatio)))\n",
    "#ruoelLt2=len(df_data[df_data.RevolvingUtilizationOfUnsecuredLines < 2])\n",
    "#ruoelACt=len(df_data.RevolvingUtilizationOfUnsecuredLines)\n",
    "#print('Values less than 2 : %d in %d. Ratio: %.5f%%' %(ruoelLt2,ruoelACt,100*ruoelLt2/ruoelACt))"
   ]
  },
  {
   "cell_type": "code",
   "execution_count": null,
   "metadata": {
    "collapsed": false
   },
   "outputs": [],
   "source": [
    "ax = sns.countplot(mad_based_outlier(df_data.DebtRatio))\n",
    "plot_freq(l = len(df_data.DebtRatio))"
   ]
  },
  {
   "cell_type": "code",
   "execution_count": null,
   "metadata": {
    "collapsed": false
   },
   "outputs": [],
   "source": [
    "minUpperBound = min([val for (val, out) in zip(df_data.DebtRatio, mad_based_outlier(df_data.DebtRatio)) if out == True])\n",
    "### Set outlier values to upperbound, that is minUpperBound.\n",
    "ind = np.where(df_data.DebtRatio>minUpperBound)\n",
    "df_data.DebtRatio[ind[0]] = minUpperBound"
   ]
  },
  {
   "cell_type": "code",
   "execution_count": null,
   "metadata": {
    "collapsed": false,
    "scrolled": true
   },
   "outputs": [],
   "source": [
    "plt.figure(figsize=(20,15))\n",
    "ax = plt.subplot(211)\n",
    "plt.plot(df_data.DebtRatio, 'o')\n",
    "\n",
    "df_data.DebtRatio.describe()"
   ]
  },
  {
   "cell_type": "markdown",
   "metadata": {},
   "source": [
    "### MonthlyIncome Variance"
   ]
  },
  {
   "cell_type": "code",
   "execution_count": null,
   "metadata": {
    "collapsed": false
   },
   "outputs": [],
   "source": [
    "plt.figure(figsize=(20,15))\n",
    "ax = plt.subplot(211)\n",
    "#ax.set_ylim(0,20)\n",
    "plt.plot(df_data.MonthlyIncome, 'bo',df_data.MonthlyIncome, 'k')\n",
    "print('Median: %.7f \\nMean: %.7f' %(np.median(df_data.MonthlyIncome),np.mean(df_data.MonthlyIncome)))"
   ]
  },
  {
   "cell_type": "code",
   "execution_count": null,
   "metadata": {
    "collapsed": false
   },
   "outputs": [],
   "source": [
    "maxUpperBound = min([val for (val, out) in zip(df_data.MonthlyIncome, mad_based_outlier(df_data.MonthlyIncome)) if out == True])\n",
    "ind = np.where(df_data.MonthlyIncome>maxUpperBound)\n",
    "df_data.MonthlyIncome[ind[0]] = maxUpperBound\n",
    "ind = np.where(df_data.MonthlyIncome<1500)\n",
    "df_data.MonthlyIncome[ind[0]] = 1500\n",
    "df_data.MonthlyIncome.describe()"
   ]
  },
  {
   "cell_type": "markdown",
   "metadata": {},
   "source": [
    "### NumberOfTimes90DaysLate Variance"
   ]
  },
  {
   "cell_type": "code",
   "execution_count": null,
   "metadata": {
    "collapsed": false
   },
   "outputs": [],
   "source": [
    "Counter(df_data.NumberOfTimes90DaysLate)\n",
    "### Set outlier values to median , that is 0.\n",
    "ind = np.where(df_data.NumberOfTimes90DaysLate>95)\n",
    "df_data.NumberOfTimes90DaysLate[ind[0]] = 0"
   ]
  },
  {
   "cell_type": "markdown",
   "metadata": {},
   "source": [
    "### NumberRealEstateLoansOrLines Variance"
   ]
  },
  {
   "cell_type": "code",
   "execution_count": null,
   "metadata": {
    "collapsed": false
   },
   "outputs": [],
   "source": [
    "Counter(df_data.NumberRealEstateLoansOrLines)\n",
    "### Set outlier values to 16.\n",
    "ind = np.where(df_data.NumberRealEstateLoansOrLines>16)\n",
    "df_data.NumberRealEstateLoansOrLines[ind[0]] = 16\n"
   ]
  },
  {
   "cell_type": "markdown",
   "metadata": {},
   "source": [
    "### NumberOfTime60-89DaysPastDueNotWorse Variance\n"
   ]
  },
  {
   "cell_type": "code",
   "execution_count": null,
   "metadata": {
    "collapsed": false
   },
   "outputs": [],
   "source": [
    "Counter(df_data.NumberOfTime6089DaysPastDueNotWorse)\n",
    "### Set outlier values to 0.\n",
    "ind = np.where(df_data.NumberOfTime6089DaysPastDueNotWorse>11)\n",
    "df_data.NumberOfTime6089DaysPastDueNotWorse[ind[0]] = 0"
   ]
  },
  {
   "cell_type": "markdown",
   "metadata": {},
   "source": [
    "### NumberOfDependents Variance"
   ]
  },
  {
   "cell_type": "code",
   "execution_count": null,
   "metadata": {
    "collapsed": false
   },
   "outputs": [],
   "source": [
    "Counter(df_data.NumberOfDependents)\n",
    "ind = np.where(df_data.NumberOfDependents >10)\n",
    "df_data.NumberOfDependents[ind[0]] = 10"
   ]
  },
  {
   "cell_type": "markdown",
   "metadata": {},
   "source": [
    "### Train-Test Split"
   ]
  },
  {
   "cell_type": "code",
   "execution_count": null,
   "metadata": {
    "collapsed": false
   },
   "outputs": [],
   "source": [
    "###\n",
    "### Generate Training and Testing Set \n",
    "###\n",
    "    \n",
    "outcome_feature = df_data['SeriousDlqin2yrs']\n",
    "target_features = df_data.drop('SeriousDlqin2yrs', axis=1)\n",
    "\n",
    "from sklearn.model_selection import train_test_split\n",
    "\"\"\"\n",
    "    X_1: independent (target) variables for first data set\n",
    "    Y_1: dependent (outcome) variable for first data set\n",
    "    X_2: independent (target) variables for the second data set\n",
    "    Y_2: dependent (outcome) variable for the second data set\n",
    "\"\"\"\n",
    "X_train, X_test, Y_train, Y_test = train_test_split(target_features, outcome_feature, test_size=0.5, random_state=0)\n",
    "from sklearn.metrics import confusion_matrix"
   ]
  },
  {
   "cell_type": "markdown",
   "metadata": {
    "collapsed": false
   },
   "source": [
    "# Desicion Tree\n",
    "\n"
   ]
  },
  {
   "cell_type": "code",
   "execution_count": null,
   "metadata": {
    "collapsed": false
   },
   "outputs": [],
   "source": [
    "from sklearn import tree\n",
    "clf2 = tree.DecisionTreeClassifier(class_weight='balanced',min_impurity_split=1e-05,max_depth=6)\n",
    "clf2.fit(X_train,Y_train)"
   ]
  },
  {
   "cell_type": "code",
   "execution_count": null,
   "metadata": {
    "collapsed": false
   },
   "outputs": [],
   "source": [
    "Y_pred = clf2.predict(X_test)\n",
    "pd.crosstab(Y_test, Y_pred, rownames=['True'], colnames=['Predicted'], margins=True)"
   ]
  },
  {
   "cell_type": "markdown",
   "metadata": {},
   "source": [
    "# GaussianNB"
   ]
  },
  {
   "cell_type": "code",
   "execution_count": null,
   "metadata": {
    "collapsed": false
   },
   "outputs": [],
   "source": [
    "from sklearn.naive_bayes import GaussianNB\n",
    "gnb = GaussianNB(priors=[0.07,0.93])\n",
    "gnb.fit(X_train,Y_train)"
   ]
  },
  {
   "cell_type": "code",
   "execution_count": null,
   "metadata": {
    "collapsed": false
   },
   "outputs": [],
   "source": [
    "Y_pred = gnb.predict(X_test)\n",
    "pd.crosstab(Y_test, Y_pred, rownames=['True'], colnames=['Predicted'], margins=True)"
   ]
  },
  {
   "cell_type": "markdown",
   "metadata": {},
   "source": [
    "# SVM\n"
   ]
  },
  {
   "cell_type": "code",
   "execution_count": null,
   "metadata": {
    "collapsed": false
   },
   "outputs": [],
   "source": [
    "from sklearn import svm\n",
    "clf3 = svm.SVC(C=2,cache_size=7000,tol=1,class_weight={0:.1,1:.9} )\n",
    "clf3.fit(X_train,Y_train)"
   ]
  },
  {
   "cell_type": "code",
   "execution_count": null,
   "metadata": {
    "collapsed": false
   },
   "outputs": [],
   "source": [
    "Y_pred = clf3.predict(X_test)\n",
    "pd.crosstab(Y_test, Y_pred, rownames=['True'], colnames=['Predicted'], margins=True)"
   ]
  },
  {
   "cell_type": "markdown",
   "metadata": {},
   "source": [
    "# MLP"
   ]
  },
  {
   "cell_type": "code",
   "execution_count": null,
   "metadata": {
    "collapsed": false
   },
   "outputs": [],
   "source": [
    "from sklearn.neural_network import MLPClassifier\n",
    "clf4 = MLPClassifier(activation=\"identity\")\n",
    "clf4.fit(X_train, Y_train) "
   ]
  },
  {
   "cell_type": "code",
   "execution_count": null,
   "metadata": {
    "collapsed": false
   },
   "outputs": [],
   "source": [
    "from sklearn.metrics import confusion_matrix\n",
    "Y_pred = clf4.predict(X_test)\n",
    "pd.crosstab(Y_test, Y_pred, rownames=['True'], colnames=['Predicted'], margins=True)"
   ]
  },
  {
   "cell_type": "markdown",
   "metadata": {},
   "source": [
    "# Logistic Regression"
   ]
  },
  {
   "cell_type": "code",
   "execution_count": null,
   "metadata": {
    "collapsed": false
   },
   "outputs": [],
   "source": [
    "from sklearn import  linear_model\n",
    "clf = linear_model.LogisticRegression(C=1e5,class_weight= {0:.1, 1:.9} )\n",
    "clf.fit(X_train,Y_train)\n"
   ]
  },
  {
   "cell_type": "code",
   "execution_count": null,
   "metadata": {
    "collapsed": false
   },
   "outputs": [],
   "source": [
    "Y_pred = clf.predict(X_test)\n",
    "netMat = (Y_pred == Y_test)\n",
    "clf.coef_\n",
    "ind = np.where(Y_test == 1)\n",
    "Counter(Y_pred[ind])\n",
    "pd.crosstab(Y_test, Y_pred, rownames=['True'], colnames=['Predicted'], margins=True)\n",
    "#ss = clf.predict_log_proba(X_test[ind]) \n",
    "#t = ss.argmax(axis = 1)\n",
    "#a = np.intersect1d(ind,np.where(t == 1))\n",
    "#100*len(a)/len(t)\n",
    "#print(clf.predict_proba(X_test[37441].reshape(1,-1)))\n",
    "#y_test[37441]"
   ]
  },
  {
   "cell_type": "markdown",
   "metadata": {},
   "source": [
    "# A Small Application"
   ]
  },
  {
   "cell_type": "code",
   "execution_count": 51,
   "metadata": {
    "collapsed": false,
    "scrolled": true
   },
   "outputs": [],
   "source": [
    "%matplotlib notebook\n",
    "import pandas as pd\n",
    "import matplotlib.pyplot as plt\n",
    "from ipywidgets import *\n",
    "from IPython.display import display\n",
    "import ipywidgets as widgets\n",
    "plt.style.use('ggplot')\n",
    "\n",
    "# displaying the text widget\n",
    "text = widgets.Text(\n",
    "    placeholder='Enes',\n",
    "    description='Please, enter the name:',\n",
    "    disabled=False\n",
    ")\n",
    "display(text)\n",
    "# add button that updates the graph based on the checkboxes\n",
    "button = widgets.Button(description=\"Check credibility\")\n",
    "display(button)\n",
    "resultLabel = widgets.Label(\n",
    "    value=\"\",\n",
    "    placeholder = 'Some LaTeX',\n",
    "    description = 'Result:',\n",
    "    visible = False,\n",
    "    disabled = True\n",
    ")\n",
    "display(resultLabel)\n",
    "#display(resultLabel)\n",
    "# preparing the plot \n",
    "#data = pd.DataFrame()\n",
    "#x = range(1,NUMBER_OF_PINGS+1)\n",
    "#plots = dict()\n",
    "#fig, ax = plt.subplots()\n",
    "#plt.xlabel('iterations')\n",
    "#plt.ylabel('ms')\n",
    "#plt.xticks(x)\n",
    "#plt.show()\n",
    "\n",
    "# preparing a container to put in created checkbox per domain\n",
    "checkboxes = []\n",
    "cb_container = widgets.HBox()\n",
    "display(cb_container)\n",
    "\n",
    "\n",
    "# function to deal with the added domain name\n",
    "def handle_submit(sender):\n",
    "    # a part of the magic inside python : pinging\n",
    "    res = !ping -c {NUMBER_OF_PINGS} {text.value}\n",
    "    hits = res.grep('64 bytes').fields(-2).s.replace(\"time=\",\"\").split()\n",
    "    if len(hits) == 0:\n",
    "        print(\"Domain gave error on pinging\")\n",
    "    else:\n",
    "         # rebuild plot based on ping result\n",
    "        data = hits\n",
    "        data = data.astype(float)\n",
    "        plots, = ax.plot(x, data, label=text.value)\n",
    "        plt.legend()\n",
    "        plt.draw()\n",
    "        # add a new checkbox for the new domain\n",
    "        checkboxes.append(widgets.Checkbox(description = text.value, value=True, width=90))\n",
    "        cb_container.children=[i for i in checkboxes]\n",
    "        if len(checkboxes) == 1:\n",
    "            display(button)\n",
    "\n",
    "# function to deal with the checkbox update button       \n",
    "def on_button_clicked(b):\n",
    "    for c in cb_container.children:\n",
    "        if not c.value:\n",
    "            plots.set_visible(False)\n",
    "        else:\n",
    "            plots.set_visible(True)\n",
    "    #plt.legend()\n",
    "    #plt.draw()\n",
    "    \n",
    "    if(resultLabel.visible == False):\n",
    "        resultLabel.value = text.value + ' can be provided with the loan.'    \n",
    "    else:\n",
    "        resultLabel.value = ''\n",
    "        \n",
    "button.on_click(on_button_clicked)\n",
    "text.on_submit(handle_submit)\n",
    "plt.show()\n",
    "\n",
    "widgets.FloatSlider(\n",
    "    value=7.5,\n",
    "    min=0,\n",
    "    max=10.0,\n",
    "    step=0.1,\n",
    "    description='Test:',\n",
    "    disabled=False,\n",
    "    continuous_update=True,\n",
    "    orientation='horizontal',\n",
    "    readout=True,\n",
    "    readout_format='.1f',\n",
    "    slider_color='black'\n",
    ")"
   ]
  }
 ],
 "metadata": {
  "kernelspec": {
   "display_name": "Python 3",
   "language": "python",
   "name": "python3"
  },
  "language_info": {
   "codemirror_mode": {
    "name": "ipython",
    "version": 3
   },
   "file_extension": ".py",
   "mimetype": "text/x-python",
   "name": "python",
   "nbconvert_exporter": "python",
   "pygments_lexer": "ipython3",
   "version": "3.6.0"
  },
  "widgets": {
   "state": {
    "0129a658f4444eb48fa00bce08924484": {
     "views": [
      {
       "cell_index": 64
      }
     ]
    },
    "049e71a7cfce4e9da47449816acc3485": {
     "views": [
      {
       "cell_index": 64
      }
     ]
    },
    "0695c806dc904fb3ab0021d9e4e32961": {
     "views": [
      {
       "cell_index": 64
      }
     ]
    },
    "10d25dde73a94c3aa3af27a060679876": {
     "views": [
      {
       "cell_index": 64
      }
     ]
    },
    "1164c41345be43b38008f0b7f5da77de": {
     "views": [
      {
       "cell_index": 64
      }
     ]
    },
    "11f14ef8e5684c5d82a3799674f713be": {
     "views": [
      {
       "cell_index": 64
      }
     ]
    },
    "16b043e1c86245dba44b091860799298": {
     "views": [
      {
       "cell_index": 64
      }
     ]
    },
    "1706ae8063334afbaeb956f0728507f5": {
     "views": [
      {
       "cell_index": 64
      }
     ]
    },
    "192091f9a66d4cf784acbd341ff8c2df": {
     "views": [
      {
       "cell_index": 64
      }
     ]
    },
    "1af92b533a4a484e88304aab85534efd": {
     "views": [
      {
       "cell_index": 64
      }
     ]
    },
    "1c49ba7d86234c0ba9306838879107f6": {
     "views": [
      {
       "cell_index": 64
      }
     ]
    },
    "215c7a3949854b578522f180a54b06fc": {
     "views": [
      {
       "cell_index": 64
      }
     ]
    },
    "229737f501d844c0b46707ed313509d9": {
     "views": [
      {
       "cell_index": 64
      }
     ]
    },
    "22e98dee53744e179b5e87d43f66de01": {
     "views": [
      {
       "cell_index": 64
      }
     ]
    },
    "2673b0d7fd344c1e84b59e49778d4b9e": {
     "views": [
      {
       "cell_index": 64
      }
     ]
    },
    "2c4d66c85c8143ef99b840e1ddbbc78c": {
     "views": [
      {
       "cell_index": 64
      }
     ]
    },
    "2ec4095761c648b0a5fcf30b713880ce": {
     "views": [
      {
       "cell_index": 64
      }
     ]
    },
    "30e97dc3178d4d71be1729e00f46bd3e": {
     "views": [
      {
       "cell_index": 64
      },
      {
       "cell_index": 64
      }
     ]
    },
    "357d6cb1a9874201b92bc86977d65ec7": {
     "views": [
      {
       "cell_index": 64
      }
     ]
    },
    "36820b68af9a4d3caa9161d8f7294974": {
     "views": [
      {
       "cell_index": 64
      }
     ]
    },
    "449f51435f174bd993ba3fb851c2bf76": {
     "views": [
      {
       "cell_index": 64
      }
     ]
    },
    "45b09aedd37c4d878a59392c1449e6df": {
     "views": [
      {
       "cell_index": 64
      }
     ]
    },
    "4855e45e083c47ddbf416c48e4975b2b": {
     "views": [
      {
       "cell_index": 64
      }
     ]
    },
    "4cf5f3ac58ce43159c58544a4f551667": {
     "views": [
      {
       "cell_index": 64
      }
     ]
    },
    "4ef45b4e188b4e56b20d4a0dbd40371d": {
     "views": [
      {
       "cell_index": 64
      }
     ]
    },
    "5509155d83054360a3110a78f9e782b2": {
     "views": [
      {
       "cell_index": 64
      }
     ]
    },
    "555167e2bb0240339eaa710dc44cf9a0": {
     "views": [
      {
       "cell_index": 64
      }
     ]
    },
    "56521a86a05746a28006bf1b09409845": {
     "views": [
      {
       "cell_index": 64
      }
     ]
    },
    "590ef088581b41e88626fa3462208075": {
     "views": [
      {
       "cell_index": 64
      }
     ]
    },
    "5ab17a293830479fa9e1473b10e18427": {
     "views": [
      {
       "cell_index": 64
      }
     ]
    },
    "5d10913b390e4c7c890832b8512a20a4": {
     "views": [
      {
       "cell_index": 64
      }
     ]
    },
    "5fbaf8898f7a49a09acab6aea026be1d": {
     "views": [
      {
       "cell_index": 64
      }
     ]
    },
    "6034bb6a78be4532921409af054b6cdf": {
     "views": [
      {
       "cell_index": 64
      }
     ]
    },
    "6436cabc157e400c8c748a6b4b86ed34": {
     "views": [
      {
       "cell_index": 64
      }
     ]
    },
    "67e815bc425549e7bab6a2045ba29429": {
     "views": [
      {
       "cell_index": 64
      }
     ]
    },
    "68f3cc9f15c345ae8c7b6e4bed83cc05": {
     "views": [
      {
       "cell_index": 64
      }
     ]
    },
    "6aebfe4cbe484255b5049c3eb078b457": {
     "views": [
      {
       "cell_index": 64
      }
     ]
    },
    "6afa7b7135ee4df5a3f7fe28d8d69299": {
     "views": [
      {
       "cell_index": 64
      }
     ]
    },
    "6cb6e9309c3642199b0abc843d0e81ab": {
     "views": [
      {
       "cell_index": 64
      }
     ]
    },
    "70bdc5b6bc6e429b8dc67cb7b265a1c6": {
     "views": [
      {
       "cell_index": 64
      }
     ]
    },
    "73cacc6b8c6c4b35b233ad13f9ee1baa": {
     "views": [
      {
       "cell_index": 64
      }
     ]
    },
    "77df73c2e7b94d1cbcbea4ed635fb8b7": {
     "views": [
      {
       "cell_index": 64
      }
     ]
    },
    "7d375ead6de44da196c1030091b70e00": {
     "views": [
      {
       "cell_index": 64
      }
     ]
    },
    "7d59f99335ef4d45adeb5b3f1913a09c": {
     "views": [
      {
       "cell_index": 64
      }
     ]
    },
    "7f2f77c659794f84b716d0c69c132d9e": {
     "views": [
      {
       "cell_index": 64
      }
     ]
    },
    "9084e654af894b428a86935113b8ef5c": {
     "views": [
      {
       "cell_index": 64
      }
     ]
    },
    "933d35320b6b41f3a5329e6240885037": {
     "views": [
      {
       "cell_index": 64
      }
     ]
    },
    "93bfcc0b267542caa5f93072dbbfacf1": {
     "views": [
      {
       "cell_index": 64
      }
     ]
    },
    "93eb86d5e0854c3f855e5f40f98fa0c3": {
     "views": [
      {
       "cell_index": 64
      }
     ]
    },
    "9445be722ff14d2083b569509e6e163e": {
     "views": [
      {
       "cell_index": 64
      }
     ]
    },
    "9a2ee198a37141f1bb5ed36cf4a90d61": {
     "views": [
      {
       "cell_index": 64
      }
     ]
    },
    "9b415ba292624a259fd56da92f330bf7": {
     "views": [
      {
       "cell_index": 64
      }
     ]
    },
    "9f61a0d5d2244f2bbbc98354eda03e42": {
     "views": [
      {
       "cell_index": 64
      }
     ]
    },
    "9fec05edc51f41fabc3026b73fff52a2": {
     "views": [
      {
       "cell_index": 64
      }
     ]
    },
    "a06566ad06534c2fafc63f2f4988d5c8": {
     "views": [
      {
       "cell_index": 64
      }
     ]
    },
    "a366064f4c344db885cd93b3348c5fbc": {
     "views": [
      {
       "cell_index": 64
      }
     ]
    },
    "a56883b8e3294632a85b27cbec94c1a5": {
     "views": [
      {
       "cell_index": 64
      },
      {
       "cell_index": 64
      },
      {
       "cell_index": 64
      }
     ]
    },
    "a8b8b2a6a6834b7998d6628ac5814bf4": {
     "views": [
      {
       "cell_index": 64
      }
     ]
    },
    "af4e1544f31e4c019d5cef61b20ea9ed": {
     "views": [
      {
       "cell_index": 64
      }
     ]
    },
    "b18cdf1c5b7e46c9b314f44388b2afa2": {
     "views": [
      {
       "cell_index": 64
      }
     ]
    },
    "b2c9abdd742940cdb95b4b7fb5979ae2": {
     "views": [
      {
       "cell_index": 64
      }
     ]
    },
    "b94fd3f502974fbca6b6103543336db6": {
     "views": [
      {
       "cell_index": 64
      }
     ]
    },
    "bb843818189249c3b18a60b52eaf91bd": {
     "views": [
      {
       "cell_index": 64
      }
     ]
    },
    "c0bcfb04057940a7a1626e706509aa2e": {
     "views": [
      {
       "cell_index": 64
      }
     ]
    },
    "c0db8134db574af3b9eb62dc67ad993c": {
     "views": [
      {
       "cell_index": 64
      }
     ]
    },
    "c323a26db8324efa9b30b39ecbf9eb97": {
     "views": [
      {
       "cell_index": 64
      }
     ]
    },
    "c5d85bf8cb4045efba4428165a7ed156": {
     "views": [
      {
       "cell_index": 64
      }
     ]
    },
    "c6d7a2e61c51402dbddb8ce27104fc03": {
     "views": [
      {
       "cell_index": 64
      }
     ]
    },
    "c75537b7634346ad9e252e96665286d8": {
     "views": [
      {
       "cell_index": 64
      },
      {
       "cell_index": 64
      }
     ]
    },
    "cb73c228e63649ad96d7a1ab075f7a1f": {
     "views": [
      {
       "cell_index": 64
      }
     ]
    },
    "cbc9aa97783b4bf8a1cd726da4035300": {
     "views": [
      {
       "cell_index": 64
      }
     ]
    },
    "d334b5cef3b84dd9add38c9d17648f29": {
     "views": [
      {
       "cell_index": 64
      }
     ]
    },
    "d54b59b17a4d430397e11e926c4f05ed": {
     "views": [
      {
       "cell_index": 64
      }
     ]
    },
    "d57c9ae8d9304c298a781385c077c2ae": {
     "views": [
      {
       "cell_index": 64
      }
     ]
    },
    "db52f458bc1e400283319958021abd69": {
     "views": [
      {
       "cell_index": 64
      }
     ]
    },
    "ddd4e5340ab942c0866a758d65f0524a": {
     "views": [
      {
       "cell_index": 64
      }
     ]
    },
    "dffda328d7cf4246ad36100059e0e18e": {
     "views": [
      {
       "cell_index": 64
      }
     ]
    },
    "e470723f1de548bbba5ed171e1d07962": {
     "views": [
      {
       "cell_index": 64
      }
     ]
    },
    "e55d0f1ace71465d94a98cf56ff30395": {
     "views": [
      {
       "cell_index": 64
      }
     ]
    },
    "e94e2956d1aa4a4883e783f02e2d86a3": {
     "views": [
      {
       "cell_index": 64
      }
     ]
    },
    "e9d37c0d53ec4679a10e188e1d0020f6": {
     "views": [
      {
       "cell_index": 64
      }
     ]
    },
    "ef70403bdb774a5ab026fe280542b8a3": {
     "views": [
      {
       "cell_index": 64
      }
     ]
    },
    "f8bd61b298824fe8b93cf8b7ad2efaca": {
     "views": [
      {
       "cell_index": 64
      }
     ]
    },
    "f9061b5e537f4ef1917413e15b20cbb7": {
     "views": [
      {
       "cell_index": 64
      }
     ]
    },
    "fb6e267f22874ecd82bde45b67e06122": {
     "views": [
      {
       "cell_index": 64
      }
     ]
    },
    "fba5c4b867f74036a08e4eb92a62b486": {
     "views": [
      {
       "cell_index": 64
      }
     ]
    },
    "fbf465fe84d64bf6b125ae2653730632": {
     "views": [
      {
       "cell_index": 64
      }
     ]
    }
   },
   "version": "1.2.0"
  }
 },
 "nbformat": 4,
 "nbformat_minor": 2
}
