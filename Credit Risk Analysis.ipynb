{
 "cells": [
  {
   "cell_type": "markdown",
   "metadata": {},
   "source": [
    "## Abstraction\n",
    "\n",
    "It's important for finance companies to know risk of giving credit to their clients. Credit scores are essential for companies to decide on whether giving credit to someone or not. In this project, we experiment on features of clients to decide on which ones are more important. SVM, logistic regression and desicion trees are utilized and compared. An interface that calculates credit score for given features is provided."
   ]
  },
  {
   "cell_type": "markdown",
   "metadata": {},
   "source": [
    "# Intoduction\n",
    "&nbsp;&nbsp; Banks play a crucial role in market economies. They decide who can get finance and on what terms and can make or break investment decisions. For markets and society to function, individuals and companies need access to credit. \n",
    "\n",
    "&nbsp;&nbsp; Credit scoring algorithms, which make a guess at the probability of default, are the method banks use to determine whether or not a loan should be granted. This competition requires participants to improve on the state of the art in credit scoring, by predicting the probability that somebody will experience financial distress in the next two years.\n",
    "\n",
    "# Data Dictionary\n",
    "| Variable Name                        | Description                                                                                                                                              | Type       |\n",
    "|--------------------------------------|----------------------------------------------------------------------------------------------------------------------------------------------------------|------------|\n",
    "| SeriousDlqin2yrs                     | Person experienced 90 days past due delinquency or worse                                                                                                 | Y/N        |\n",
    "| RevolvingUtilizationOfUnsecuredLines | Total balance on credit cards and personal lines of credit except real estate and no installment debt like car loans divided by the sum of credit limits | percentage |\n",
    "| age                                  | Age of borrower in years                                                                                                                                 | integer    |\n",
    "| NumberOfTime30-59DaysPastDueNotWorse | Number of times borrower has been 30-59 days past due but no worse in the last 2 years.                                                                  | integer    |\n",
    "| DebtRatio                            | Monthly debt payments, alimony,living costs divided by monthy gross income                                                                               | percentage |\n",
    "| MonthlyIncome                        | Monthly income                                                                                                                                           | real       |\n",
    "| NumberOfOpenCreditLinesAndLoans      | Number of Open loans (installment like car loan or mortgage) and Lines of credit (e.g. credit cards)                                                     | integer    |\n",
    "| NumberOfTimes90DaysLate              | Number of times borrower has been 90 days or more past due.                                                                                              | integer    |\n",
    "| NumberRealEstateLoansOrLines         | Number of mortgage and real estate loans including home equity lines of credit                                                                           | integer    |\n",
    "| NumberOfTime60-89DaysPastDueNotWorse | Number of times borrower has been 60-89 days past due but no worse in the last 2 years.                                                                  | integer    |\n",
    "| NumberOfDependents                   | Number of dependents in family excluding themselves (spouse, children etc.)                                                                              | integer    |\n",
    "### Train Data Loaded"
   ]
  },
  {
   "cell_type": "markdown",
   "metadata": {},
   "source": [
    "## Related Work \n",
    "\n",
    "A two-stage hybrid credit scoring model using artificial neural networks and multivariate adaptive regression splines\n",
    "http://www.sciencedirect.com/science/article/pii/S0957417404001782\n",
    "\n",
    "Benchmarking state-of-the-art classification algorithms for credit scoring\n",
    "https://link.springer.com/article/10.1057/palgrave.jors.2601545\n",
    "\n",
    "Using neural network ensembles for bankruptcy prediction and credit scoring\n",
    "http://www.sciencedirect.com/science/article/pii/S0957417407001558\n",
    "\n",
    "A comparative assessment of ensemble learning for credit scoring\n",
    "http://www.sciencedirect.com/science/article/pii/S095741741000552X\n",
    "\n",
    "Comprehensible credit scoring models using rule extraction from support vector machines\n",
    "http://www.sciencedirect.com/science/article/pii/S0377221706011878\n",
    "\n",
    "Neural network credit scoring models\n",
    "http://www.sciencedirect.com/science/article/pii/S0305054899001495\n",
    "\n",
    "Statistical Classification Methods in Consumer Credit Scoring: a Review\n",
    "http://onlinelibrary.wiley.com/doi/10.1111/j.1467-985X.1997.00078.x/full"
   ]
  },
  {
   "cell_type": "code",
   "execution_count": 53,
   "metadata": {
    "collapsed": false
   },
   "outputs": [],
   "source": [
    "import pandas as pd\n",
    "import numpy as np\n",
    "import seaborn as sns\n",
    "import matplotlib.pyplot as plt\n",
    "from sklearn.feature_extraction import DictVectorizer\n",
    "from pandas import DataFrame\n",
    "%matplotlib inline"
   ]
  },
  {
   "cell_type": "code",
   "execution_count": 54,
   "metadata": {
    "collapsed": false,
    "scrolled": true
   },
   "outputs": [],
   "source": [
    "###\n",
    "### Load Data Set\n",
    "###\n",
    "data = pd.read_csv('cs-training.csv',sep=';').drop('Unnamed: 0', axis = 1)"
   ]
  },
  {
   "cell_type": "code",
   "execution_count": 55,
   "metadata": {
    "collapsed": false
   },
   "outputs": [],
   "source": [
    "# '-' in column name creates a problem when accessing\n",
    "Cols = []\n",
    "for i in range(len(data.columns)):\n",
    "    Cols.append(data.columns[i].replace('-', ''))\n",
    "    \n",
    "data.columns = Cols"
   ]
  },
  {
   "cell_type": "code",
   "execution_count": 56,
   "metadata": {
    "collapsed": false
   },
   "outputs": [],
   "source": [
    "# Drop rows with missing column data\n",
    "data = data.dropna()\n",
    "\n",
    "###\n",
    "### Convert Data Into List Of Dict Records\n",
    "###\n",
    "data = data.to_dict(orient='records')\n",
    "\n",
    "###\n",
    "### Seperate Target and Outcome Features\n",
    "###\n",
    "\n",
    "vec = DictVectorizer()\n",
    "\n",
    "df_data = vec.fit_transform(data).toarray()\n",
    "feature_names = vec.get_feature_names()\n",
    "df_data = DataFrame(\n",
    "    df_data,\n",
    "    columns=feature_names)\n",
    "    \n",
    "outcome_feature = df_data['SeriousDlqin2yrs']\n",
    "target_features = df_data.drop('SeriousDlqin2yrs', axis=1)"
   ]
  },
  {
   "cell_type": "markdown",
   "metadata": {},
   "source": [
    "### Train-Test Split"
   ]
  },
  {
   "cell_type": "code",
   "execution_count": 57,
   "metadata": {
    "collapsed": false
   },
   "outputs": [],
   "source": [
    "###\n",
    "### Generate Training and Testing Set \n",
    "###\n",
    "from sklearn.model_selection import train_test_split\n",
    "\"\"\"\n",
    "    X_1: independent (target) variables for first data set\n",
    "    Y_1: dependent (outcome) variable for first data set\n",
    "    X_2: independent (target) variables for the second data set\n",
    "    Y_2: dependent (outcome) variable for the second data set\n",
    "\"\"\"\n",
    "X_train, X_test, Y_train, Y_test = train_test_split(target_features, outcome_feature, test_size=0.5, random_state=0)\n"
   ]
  },
  {
   "cell_type": "markdown",
   "metadata": {},
   "source": [
    "## Missing Values\n",
    " There are some values in the dataset that are missing or having really awkward magnitudes. Therefore, firstly, we should take care of them."
   ]
  },
  {
   "cell_type": "code",
   "execution_count": 58,
   "metadata": {
    "collapsed": false
   },
   "outputs": [],
   "source": [
    "\n",
    "#col_mean = np.nanmean(X,axis=0)\n",
    "\n",
    "#Find indicies that you need to replace\n",
    "#inds = np.where(np.isnan(X))\n",
    "\n",
    "#Place column means in the indices. Align the arrays using take\n",
    "#X[inds]=np.take(col_mean,inds[1])\n"
   ]
  },
  {
   "cell_type": "markdown",
   "metadata": {},
   "source": [
    "## Visualization\n",
    "\n",
    "In this part we will show you the visualization of the data with respect to some aspects of them.\n"
   ]
  },
  {
   "cell_type": "code",
   "execution_count": 59,
   "metadata": {
    "collapsed": false
   },
   "outputs": [],
   "source": [
    "def plot_freq(l):\n",
    "    ncount = l\n",
    "\n",
    "    ax2=ax.twinx()\n",
    "\n",
    "    ax2.yaxis.tick_left()\n",
    "    ax.yaxis.tick_right()\n",
    "\n",
    "    ax.yaxis.set_label_position('right')\n",
    "    ax2.yaxis.set_label_position('left')\n",
    "\n",
    "    ax2.set_ylabel('Frequency [%]')\n",
    "\n",
    "    for p in ax.patches:\n",
    "        x=p.get_bbox().get_points()[:,0]\n",
    "        y=p.get_bbox().get_points()[1,1]\n",
    "        ax.annotate('{:.1f}%'.format(100.*y/ncount), (x.mean(), y), \n",
    "                ha='center', va='bottom')\n",
    "\n",
    "    ax2.set_ylim(0,100)\n",
    "    ax2.grid(None)    "
   ]
  },
  {
   "cell_type": "code",
   "execution_count": 60,
   "metadata": {
    "collapsed": false
   },
   "outputs": [
    {
     "data": {
      "image/png": "[encoded data removed]",
      "text/plain": [
       "<matplotlib.figure.Figure at 0x21bce329550>"
      ]
     },
     "metadata": {},
     "output_type": "display_data"
    }
   ],
   "source": [
    "ax = sns.countplot(x = outcome_feature , palette=\"Set2\")\n",
    "sns.set(font_scale=1.5)\n",
    "ax.set_ylim(top = len(data))\n",
    "ax.set_xlabel('Class')\n",
    "ax.set_ylabel('Sample Size')\n",
    "plt.title('Class Frequencies')\n",
    "\n",
    "plot_freq(l = len(outcome_feature))\n",
    "\n",
    "plt.show()"
   ]
  },
  {
   "cell_type": "markdown",
   "metadata": {},
   "source": [
    "## Linear Discriminant Analysis"
   ]
  },
  {
   "cell_type": "code",
   "execution_count": null,
   "metadata": {
    "collapsed": false
   },
   "outputs": [],
   "source": []
  },
  {
   "cell_type": "code",
   "execution_count": 61,
   "metadata": {
    "collapsed": false
   },
   "outputs": [
    {
     "data": {
      "text/plain": [
       "LogisticRegression(C=100000.0, class_weight=None, dual=False,\n",
       "          fit_intercept=True, intercept_scaling=1, max_iter=100,\n",
       "          multi_class='ovr', n_jobs=1, penalty='l2', random_state=None,\n",
       "          solver='liblinear', tol=0.0001, verbose=0, warm_start=False)"
      ]
     },
     "execution_count": 61,
     "metadata": {},
     "output_type": "execute_result"
    }
   ],
   "source": [
    "from sklearn import  linear_model\n",
    "clf = linear_model.LogisticRegression(C=1e5)\n",
    "clf.fit(X_train,Y_train)\n",
    "#clf.predict_proba(X[0])\n"
   ]
  },
  {
   "cell_type": "code",
   "execution_count": 62,
   "metadata": {
    "collapsed": false
   },
   "outputs": [],
   "source": [
    "#clf.coef_\n",
    "#ind = np.where(Y_test == 1)\n",
    "#ss = clf.predict_log_proba(X_test[ind]) \n",
    "#t = ss.argmax(axis = 1)\n",
    "#a = np.intersect1d(ind,np.where(t == 1))\n",
    "#100*len(a)/len(t)\n",
    "#print(clf.predict_proba(X_test[37441].reshape(1,-1)))\n",
    "#y_test[37441]"
   ]
  },
  {
   "cell_type": "markdown",
   "metadata": {},
   "source": [
    "# Outlier detection"
   ]
  },
  {
   "cell_type": "markdown",
   "metadata": {
    "collapsed": false
   },
   "source": [
    "We are going to examine some features to eliminate outliers. For instance, in *RevolvingUtilizationOfUnsecuredLines*, there are some values that are close to 50000. We should eliminate such values to prevent our error rate being very high. \n",
    "\n",
    "### RevolvingUtilizationOfUnsecuredLines Variance"
   ]
  },
  {
   "cell_type": "code",
   "execution_count": 63,
   "metadata": {
    "collapsed": false
   },
   "outputs": [
    {
     "name": "stdout",
     "output_type": "stream",
     "text": [
      "Median: 0.1772821 \n",
      "Mean: 5.8998725\n",
      "Values less than 2 : 119991 in 120269. Ratio: 99.76885%\n"
     ]
    },
    {
     "data": {
      "image/png": "[encoded data removed]",
      "text/plain": [
       "<matplotlib.figure.Figure at 0x21bce3298d0>"
      ]
     },
     "metadata": {},
     "output_type": "display_data"
    }
   ],
   "source": [
    "#plt.plot(data2.RevolvingUtilizationOfUnsecuredLines)\n",
    "plt.figure(figsize=(20,15))\n",
    "ax = plt.subplot(211)\n",
    "#ax.set_ylim(0,20)\n",
    "plt.plot(df_data.RevolvingUtilizationOfUnsecuredLines, 'bo',df_data.RevolvingUtilizationOfUnsecuredLines, 'k')\n",
    "print('Median: %.7f \\nMean: %.7f' %(np.median(df_data.RevolvingUtilizationOfUnsecuredLines),np.mean(df_data.RevolvingUtilizationOfUnsecuredLines)))\n",
    "ruoelLt2=len(df_data[df_data.RevolvingUtilizationOfUnsecuredLines < 2])\n",
    "ruoelACt=len(df_data.RevolvingUtilizationOfUnsecuredLines)\n",
    "print('Values less than 2 : %d in %d. Ratio: %.5f%%' %(ruoelLt2,ruoelACt,100*ruoelLt2/ruoelACt))\n",
    "#sns.kdeplot(data2.RevolvingUtilizationOfUnsecuredLines, shade=True, color=\"r\")\n",
    "#data2.age.plot.box()\n",
    "#data2.RevolvingUtilizationOfUnsecuredLines.plot.box()\n"
   ]
  },
  {
   "cell_type": "markdown",
   "metadata": {},
   "source": [
    "Therefore we need to clean outliers by considering the ratio we obtained above."
   ]
  },
  {
   "cell_type": "code",
   "execution_count": 64,
   "metadata": {
    "collapsed": false
   },
   "outputs": [],
   "source": [
    "ind = np.where(df_data.RevolvingUtilizationOfUnsecuredLines>2)\n",
    "df_data.RevolvingUtilizationOfUnsecuredLines[ind[0]] = 2."
   ]
  },
  {
   "cell_type": "markdown",
   "metadata": {},
   "source": [
    "### Age Variance"
   ]
  },
  {
   "cell_type": "code",
   "execution_count": 65,
   "metadata": {
    "collapsed": false
   },
   "outputs": [
    {
     "data": {
      "text/plain": [
       "Counter({0.0: 1,\n",
       "         21.0: 130,\n",
       "         22.0: 329,\n",
       "         23.0: 515,\n",
       "         24.0: 652,\n",
       "         25.0: 797,\n",
       "         26.0: 1012,\n",
       "         27.0: 1126,\n",
       "         28.0: 1349,\n",
       "         29.0: 1468,\n",
       "         30.0: 1674,\n",
       "         31.0: 1783,\n",
       "         32.0: 1804,\n",
       "         33.0: 1957,\n",
       "         34.0: 1867,\n",
       "         35.0: 1930,\n",
       "         36.0: 2056,\n",
       "         37.0: 2157,\n",
       "         38.0: 2266,\n",
       "         39.0: 2566,\n",
       "         40.0: 2645,\n",
       "         41.0: 2660,\n",
       "         42.0: 2633,\n",
       "         43.0: 2751,\n",
       "         44.0: 2820,\n",
       "         45.0: 2969,\n",
       "         46.0: 3117,\n",
       "         47.0: 3134,\n",
       "         48.0: 3163,\n",
       "         49.0: 3217,\n",
       "         50.0: 3105,\n",
       "         51.0: 3001,\n",
       "         52.0: 2951,\n",
       "         53.0: 2974,\n",
       "         54.0: 2905,\n",
       "         55.0: 2745,\n",
       "         56.0: 2846,\n",
       "         57.0: 2699,\n",
       "         58.0: 2702,\n",
       "         59.0: 2574,\n",
       "         60.0: 2505,\n",
       "         61.0: 2713,\n",
       "         62.0: 2725,\n",
       "         63.0: 2802,\n",
       "         64.0: 2278,\n",
       "         65.0: 1922,\n",
       "         66.0: 1874,\n",
       "         67.0: 1835,\n",
       "         68.0: 1613,\n",
       "         69.0: 1443,\n",
       "         70.0: 1270,\n",
       "         71.0: 1212,\n",
       "         72.0: 1226,\n",
       "         73.0: 1093,\n",
       "         74.0: 1059,\n",
       "         75.0: 860,\n",
       "         76.0: 839,\n",
       "         77.0: 775,\n",
       "         78.0: 749,\n",
       "         79.0: 697,\n",
       "         80.0: 621,\n",
       "         81.0: 530,\n",
       "         82.0: 443,\n",
       "         83.0: 317,\n",
       "         84.0: 304,\n",
       "         85.0: 309,\n",
       "         86.0: 254,\n",
       "         87.0: 211,\n",
       "         88.0: 193,\n",
       "         89.0: 178,\n",
       "         90.0: 114,\n",
       "         91.0: 83,\n",
       "         92.0: 55,\n",
       "         93.0: 48,\n",
       "         94.0: 21,\n",
       "         95.0: 20,\n",
       "         96.0: 6,\n",
       "         97.0: 10,\n",
       "         98.0: 3,\n",
       "         99.0: 3,\n",
       "         101.0: 2,\n",
       "         102.0: 2,\n",
       "         103.0: 2})"
      ]
     },
     "execution_count": 65,
     "metadata": {},
     "output_type": "execute_result"
    },
    {
     "data": {
      "image/png": "[encoded data removed]",
      "text/plain": [
       "<matplotlib.figure.Figure at 0x21bce498d68>"
      ]
     },
     "metadata": {},
     "output_type": "display_data"
    }
   ],
   "source": [
    "from collections import Counter\n",
    "plt.figure(1)\n",
    "df_data.age.plot.box()\n",
    "Counter(df_data.age)\n",
    "\n"
   ]
  },
  {
   "cell_type": "code",
   "execution_count": 66,
   "metadata": {
    "collapsed": false
   },
   "outputs": [
    {
     "data": {
      "image/png": "[encoded data removed]",
      "text/plain": [
       "<matplotlib.figure.Figure at 0x21bcbfbd390>"
      ]
     },
     "metadata": {},
     "output_type": "display_data"
    }
   ],
   "source": [
    "plt.figure(2)\n",
    "sns.set_color_codes()\n",
    "sns.distplot(df_data.age, color=\"y\")\n",
    "plt.show()"
   ]
  },
  {
   "cell_type": "code",
   "execution_count": 67,
   "metadata": {
    "collapsed": false
   },
   "outputs": [],
   "source": [
    "ind = np.where(df_data.age<21)\n",
    "df_data.age[ind[0]] = 21.\n",
    "ind = np.where(df_data.age>94)\n",
    "df_data.age[ind[0]] = 94.\n"
   ]
  },
  {
   "cell_type": "markdown",
   "metadata": {},
   "source": [
    "### NumberOfTime3059DaysPastDueNotWorse Varience\n"
   ]
  },
  {
   "cell_type": "code",
   "execution_count": 77,
   "metadata": {
    "collapsed": false
   },
   "outputs": [
    {
     "data": {
      "text/plain": [
       "Counter({0.0: 100118,\n",
       "         1.0: 13538,\n",
       "         2.0: 3957,\n",
       "         3.0: 1525,\n",
       "         4.0: 635,\n",
       "         5.0: 284,\n",
       "         6.0: 124,\n",
       "         7.0: 48,\n",
       "         8.0: 23,\n",
       "         9.0: 10,\n",
       "         10.0: 3,\n",
       "         11.0: 1,\n",
       "         12.0: 2,\n",
       "         13.0: 1})"
      ]
     },
     "execution_count": 77,
     "metadata": {},
     "output_type": "execute_result"
    }
   ],
   "source": [
    "Counter(df_data.NumberOfTime3059DaysPastDueNotWorse)"
   ]
  },
  {
   "cell_type": "code",
   "execution_count": 78,
   "metadata": {
    "collapsed": true
   },
   "outputs": [],
   "source": [
    "### Set outlier values as median , that is 0.\n",
    "ind = np.where(df_data.NumberOfTime3059DaysPastDueNotWorse>95)\n",
    "df_data.NumberOfTime3059DaysPastDueNotWorse[ind[0]] = 0."
   ]
  }
 ],
 "metadata": {
  "kernelspec": {
   "display_name": "Python 3",
   "language": "python",
   "name": "python3"
  },
  "language_info": {
   "codemirror_mode": {
    "name": "ipython",
    "version": 3
   },
   "file_extension": ".py",
   "mimetype": "text/x-python",
   "name": "python",
   "nbconvert_exporter": "python",
   "pygments_lexer": "ipython3",
   "version": "3.6.0"
  }
 },
 "nbformat": 4,
 "nbformat_minor": 2
}
